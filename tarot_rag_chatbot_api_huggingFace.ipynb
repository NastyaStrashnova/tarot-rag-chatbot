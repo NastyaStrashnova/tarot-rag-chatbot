{
 "cells": [
  {
   "cell_type": "markdown",
   "metadata": {
    "id": "xZqujFOj2-sv"
   },
   "source": [
    "# 0. Libraries:"
   ]
  },
  {
   "cell_type": "code",
   "execution_count": 40,
   "metadata": {
    "collapsed": true,
    "id": "1umJ7WOC2-sx"
   },
   "outputs": [],
   "source": [
    "import os\n",
    "from typing import List, Dict\n",
    "import fitz\n",
    "from tqdm.auto import tqdm\n",
    "import pandas as pd\n",
    "\n",
    "import numpy as np\n",
    "import torch\n",
    "\n",
    "device = torch.device(\"cpu\")"
   ]
  },
  {
   "cell_type": "code",
   "execution_count": null,
   "metadata": {
    "id": "g-eR7xitQzws"
   },
   "outputs": [],
   "source": [
    "nltk.download(\"punkt\", quiet=True)"
   ]
  },
  {
   "cell_type": "markdown",
   "metadata": {
    "id": "57LMc2FM2-sz"
   },
   "source": [
    "# 1. PDF file processing"
   ]
  },
  {
   "cell_type": "code",
   "execution_count": null,
   "metadata": {
    "colab": {
     "referenced_widgets": [
      "1ef3070cf24745bab6418a54b7a21506"
     ]
    },
    "id": "ujFmsEQM2-sz",
    "outputId": "6d9e8ec0-acb6-4482-eefd-8e085c553377"
   },
   "outputs": [
    {
     "data": {
      "application/vnd.jupyter.widget-view+json": {
       "model_id": "1ef3070cf24745bab6418a54b7a21506",
       "version_major": 2,
       "version_minor": 0
      },
      "text/plain": [
       "0it [00:00, ?it/s]"
      ]
     },
     "metadata": {},
     "output_type": "display_data"
    },
    {
     "data": {
      "text/plain": [
       "[{'page_number': -6,\n",
       "  'page_char_count': 0,\n",
       "  'page_word_count': 1,\n",
       "  'page_sentence_count_raw': 1,\n",
       "  'page_token_count': 0.0,\n",
       "  'text': ''},\n",
       " {'page_number': -5,\n",
       "  'page_char_count': 0,\n",
       "  'page_word_count': 1,\n",
       "  'page_sentence_count_raw': 1,\n",
       "  'page_token_count': 0.0,\n",
       "  'text': ''},\n",
       " {'page_number': -4,\n",
       "  'page_char_count': 137,\n",
       "  'page_word_count': 26,\n",
       "  'page_sentence_count_raw': 1,\n",
       "  'page_token_count': 34.25,\n",
       "  'text': 'A Beginner’s Guide to the Cards, Spreads, and Revealing the Mystery of the Tarot LIZ DEAN author of The Art of Tarot and The Golden Tarot'}]"
      ]
     },
     "execution_count": 23,
     "metadata": {},
     "output_type": "execute_result"
    }
   ],
   "source": [
    "pdf_path = 'The Ultimate Guide to Tarot - A Beginner.pdf'\n",
    "\n",
    "def text_formatting(text: str) -> str:\n",
    "    prepared_text = text.replace(\"\\n\", \" \").strip()\n",
    "\n",
    "    return prepared_text\n",
    "\n",
    "def open_and_read(pdf_path: str) -> List[Dict]:\n",
    "    doc = fitz.open(pdf_path)  # open a document\n",
    "    pages_and_texts = []\n",
    "    for page_number, page in tqdm(enumerate(doc)):  # iterate the document pages\n",
    "        text = page.get_text()  # get plain text encoded as UTF-8\n",
    "        text = text_formatting(text)\n",
    "        pages_and_texts.append({\"page_number\": page_number - 6,\n",
    "                                \"page_char_count\": len(text),\n",
    "                                \"page_word_count\": len(text.split(\" \")),\n",
    "                                \"page_sentence_count_raw\": len(text.split(\". \")),\n",
    "                                \"page_token_count\": len(text) / 4,\n",
    "                                \"text\": text})\n",
    "    return pages_and_texts\n",
    "pages_and_text = open_and_read(pdf_path=pdf_path)\n",
    "pages_and_text[:3]"
   ]
  },
  {
   "cell_type": "code",
   "execution_count": null,
   "metadata": {
    "id": "CPj_mH-i2-sz",
    "outputId": "d037c56c-45a1-429d-dcc3-d9d4f4035340"
   },
   "outputs": [
    {
     "data": {
      "text/html": [
       "<div>\n",
       "<style scoped>\n",
       "    .dataframe tbody tr th:only-of-type {\n",
       "        vertical-align: middle;\n",
       "    }\n",
       "\n",
       "    .dataframe tbody tr th {\n",
       "        vertical-align: top;\n",
       "    }\n",
       "\n",
       "    .dataframe thead th {\n",
       "        text-align: right;\n",
       "    }\n",
       "</style>\n",
       "<table border=\"1\" class=\"dataframe\">\n",
       "  <thead>\n",
       "    <tr style=\"text-align: right;\">\n",
       "      <th></th>\n",
       "      <th>page_number</th>\n",
       "      <th>page_char_count</th>\n",
       "      <th>page_word_count</th>\n",
       "      <th>page_sentence_count_raw</th>\n",
       "      <th>page_token_count</th>\n",
       "      <th>text</th>\n",
       "    </tr>\n",
       "  </thead>\n",
       "  <tbody>\n",
       "    <tr>\n",
       "      <th>0</th>\n",
       "      <td>-7</td>\n",
       "      <td>0</td>\n",
       "      <td>1</td>\n",
       "      <td>1</td>\n",
       "      <td>0.00</td>\n",
       "      <td></td>\n",
       "    </tr>\n",
       "    <tr>\n",
       "      <th>1</th>\n",
       "      <td>-6</td>\n",
       "      <td>0</td>\n",
       "      <td>1</td>\n",
       "      <td>1</td>\n",
       "      <td>0.00</td>\n",
       "      <td></td>\n",
       "    </tr>\n",
       "    <tr>\n",
       "      <th>2</th>\n",
       "      <td>-5</td>\n",
       "      <td>137</td>\n",
       "      <td>26</td>\n",
       "      <td>1</td>\n",
       "      <td>34.25</td>\n",
       "      <td>A Beginner’s Guide to the Cards, Spreads, and ...</td>\n",
       "    </tr>\n",
       "    <tr>\n",
       "      <th>3</th>\n",
       "      <td>-4</td>\n",
       "      <td>443</td>\n",
       "      <td>79</td>\n",
       "      <td>1</td>\n",
       "      <td>110.75</td>\n",
       "      <td>Contents CHAPTER 1 INTRODUCING THE TAROT CHAPT...</td>\n",
       "    </tr>\n",
       "    <tr>\n",
       "      <th>4</th>\n",
       "      <td>-3</td>\n",
       "      <td>491</td>\n",
       "      <td>95</td>\n",
       "      <td>1</td>\n",
       "      <td>122.75</td>\n",
       "      <td>XIX, The Sun XX, Judgment XXI, The World CHAPT...</td>\n",
       "    </tr>\n",
       "  </tbody>\n",
       "</table>\n",
       "</div>"
      ],
      "text/plain": [
       "   page_number  page_char_count  page_word_count  page_sentence_count_raw  \\\n",
       "0           -7                0                1                        1   \n",
       "1           -6                0                1                        1   \n",
       "2           -5              137               26                        1   \n",
       "3           -4              443               79                        1   \n",
       "4           -3              491               95                        1   \n",
       "\n",
       "   page_token_count                                               text  \n",
       "0              0.00                                                     \n",
       "1              0.00                                                     \n",
       "2             34.25  A Beginner’s Guide to the Cards, Spreads, and ...  \n",
       "3            110.75  Contents CHAPTER 1 INTRODUCING THE TAROT CHAPT...  \n",
       "4            122.75  XIX, The Sun XX, Judgment XXI, The World CHAPT...  "
      ]
     },
     "execution_count": 25,
     "metadata": {},
     "output_type": "execute_result"
    }
   ],
   "source": [
    "df = pd.DataFrame(pages_and_texts)\n",
    "df.head()"
   ]
  },
  {
   "cell_type": "code",
   "execution_count": null,
   "metadata": {
    "id": "p3YgEuvZ2-s0",
    "outputId": "7d7dbc4c-f606-4855-f4bb-f3104c7007cf"
   },
   "outputs": [
    {
     "data": {
      "text/html": [
       "<div>\n",
       "<style scoped>\n",
       "    .dataframe tbody tr th:only-of-type {\n",
       "        vertical-align: middle;\n",
       "    }\n",
       "\n",
       "    .dataframe tbody tr th {\n",
       "        vertical-align: top;\n",
       "    }\n",
       "\n",
       "    .dataframe thead th {\n",
       "        text-align: right;\n",
       "    }\n",
       "</style>\n",
       "<table border=\"1\" class=\"dataframe\">\n",
       "  <thead>\n",
       "    <tr style=\"text-align: right;\">\n",
       "      <th></th>\n",
       "      <th>page_number</th>\n",
       "      <th>page_char_count</th>\n",
       "      <th>page_word_count</th>\n",
       "      <th>page_sentence_count_raw</th>\n",
       "      <th>page_token_count</th>\n",
       "    </tr>\n",
       "  </thead>\n",
       "  <tbody>\n",
       "    <tr>\n",
       "      <th>count</th>\n",
       "      <td>493.00</td>\n",
       "      <td>493.00</td>\n",
       "      <td>493.00</td>\n",
       "      <td>493.00</td>\n",
       "      <td>493.00</td>\n",
       "    </tr>\n",
       "    <tr>\n",
       "      <th>mean</th>\n",
       "      <td>239.00</td>\n",
       "      <td>981.51</td>\n",
       "      <td>169.57</td>\n",
       "      <td>8.21</td>\n",
       "      <td>245.38</td>\n",
       "    </tr>\n",
       "    <tr>\n",
       "      <th>std</th>\n",
       "      <td>142.46</td>\n",
       "      <td>912.48</td>\n",
       "      <td>158.65</td>\n",
       "      <td>8.10</td>\n",
       "      <td>228.12</td>\n",
       "    </tr>\n",
       "    <tr>\n",
       "      <th>min</th>\n",
       "      <td>-7.00</td>\n",
       "      <td>0.00</td>\n",
       "      <td>1.00</td>\n",
       "      <td>1.00</td>\n",
       "      <td>0.00</td>\n",
       "    </tr>\n",
       "    <tr>\n",
       "      <th>25%</th>\n",
       "      <td>116.00</td>\n",
       "      <td>145.00</td>\n",
       "      <td>26.00</td>\n",
       "      <td>1.00</td>\n",
       "      <td>36.25</td>\n",
       "    </tr>\n",
       "    <tr>\n",
       "      <th>50%</th>\n",
       "      <td>239.00</td>\n",
       "      <td>605.00</td>\n",
       "      <td>106.00</td>\n",
       "      <td>4.00</td>\n",
       "      <td>151.25</td>\n",
       "    </tr>\n",
       "    <tr>\n",
       "      <th>75%</th>\n",
       "      <td>362.00</td>\n",
       "      <td>1839.00</td>\n",
       "      <td>314.00</td>\n",
       "      <td>16.00</td>\n",
       "      <td>459.75</td>\n",
       "    </tr>\n",
       "    <tr>\n",
       "      <th>max</th>\n",
       "      <td>485.00</td>\n",
       "      <td>2632.00</td>\n",
       "      <td>461.00</td>\n",
       "      <td>25.00</td>\n",
       "      <td>658.00</td>\n",
       "    </tr>\n",
       "  </tbody>\n",
       "</table>\n",
       "</div>"
      ],
      "text/plain": [
       "       page_number  page_char_count  page_word_count  page_sentence_count_raw  \\\n",
       "count       493.00           493.00           493.00                   493.00   \n",
       "mean        239.00           981.51           169.57                     8.21   \n",
       "std         142.46           912.48           158.65                     8.10   \n",
       "min          -7.00             0.00             1.00                     1.00   \n",
       "25%         116.00           145.00            26.00                     1.00   \n",
       "50%         239.00           605.00           106.00                     4.00   \n",
       "75%         362.00          1839.00           314.00                    16.00   \n",
       "max         485.00          2632.00           461.00                    25.00   \n",
       "\n",
       "       page_token_count  \n",
       "count            493.00  \n",
       "mean             245.38  \n",
       "std              228.12  \n",
       "min                0.00  \n",
       "25%               36.25  \n",
       "50%              151.25  \n",
       "75%              459.75  \n",
       "max              658.00  "
      ]
     },
     "execution_count": 27,
     "metadata": {},
     "output_type": "execute_result"
    }
   ],
   "source": [
    "df.describe().round(2)"
   ]
  },
  {
   "cell_type": "markdown",
   "metadata": {
    "id": "bmWylzPo2-s0"
   },
   "source": [
    "## 1.2 Create data chunks"
   ]
  },
  {
   "cell_type": "code",
   "execution_count": null,
   "metadata": {
    "id": "puv5-rKq2-s0"
   },
   "outputs": [],
   "source": [
    "import re\n",
    "\n",
    "def simple_sent_tokenize(text: str) -> List[str]:\n",
    "    # Step 1: Split into sentences\n",
    "    sentences = re.split(r'(?<=[.!?;])\\s+', text)\n",
    "\n",
    "    # Step 2: Merge headers (all caps, no punctuation, short length)\n",
    "    merged = []\n",
    "    skip_next = False\n",
    "    for i, sent in enumerate(sentences):\n",
    "        if skip_next:\n",
    "            skip_next = False\n",
    "            continue\n",
    "\n",
    "        if (sent.isupper() and len(sent.split()) <= 6 and not re.search(r'[.!?;]', sent)):\n",
    "            # Merge with next sentence if available\n",
    "            if i + 1 < len(sentences):\n",
    "                merged.append(sent + \" \" + sentences[i+1])\n",
    "                skip_next = True\n",
    "            else:\n",
    "                merged.append(sent)\n",
    "        else:\n",
    "            merged.append(sent)\n",
    "\n",
    "    return merged\n",
    "\n",
    "def prepare_chunks(pages_and_texts: List[Dict],\n",
    "                   min_chars: int = 250,\n",
    "                   max_chars: int = 1500,\n",
    "                   overlap_sentences: int = 2) -> List[Dict]:\n",
    "    chunks = []\n",
    "    buffer = None  # holds short pages to merge\n",
    "\n",
    "    for page in pages_and_texts:\n",
    "        text = page[\"text\"].strip()\n",
    "        if not text:\n",
    "            continue  # skip empty\n",
    "\n",
    "        # Merge short pages\n",
    "        if len(text) < min_chars:\n",
    "            if buffer:\n",
    "                buffer[\"text\"] += \" \" + text\n",
    "            else:\n",
    "\n",
    "                buffer = {\"page_number\": page[\"page_number\"], \"text\": text, \"page_token_count\": (len(text) / 4)}\n",
    "            continue\n",
    "\n",
    "        # Flush buffered short page\n",
    "        if buffer:\n",
    "            chunks.append(buffer)\n",
    "            buffer = None\n",
    "\n",
    "        # Split into sentences using regex\n",
    "        sentences = simple_sent_tokenize(text)\n",
    "\n",
    "        current_chunk = []\n",
    "        current_length = 0\n",
    "\n",
    "        for i, sentence in enumerate(sentences):\n",
    "            if current_length + len(sentence) > max_chars and current_chunk:\n",
    "                # save current chunk\n",
    "                chunk_text = \" \".join(current_chunk)\n",
    "                chunks.append({\"page_number\": page[\"page_number\"], \"text\": chunk_text, \"page_token_count\": (len(chunk_text) / 4)})\n",
    "\n",
    "                # start new chunk with overlap sentences\n",
    "                overlap = current_chunk[-overlap_sentences:] if overlap_sentences else []\n",
    "                current_chunk = overlap + [sentence]\n",
    "                current_length = sum(len(s) for s in current_chunk)\n",
    "            else:\n",
    "                current_chunk.append(sentence)\n",
    "                current_length += len(sentence)\n",
    "\n",
    "        # Save last chunk\n",
    "        if current_chunk:\n",
    "\n",
    "            chunks.append({\"page_number\": page[\"page_number\"], \"text\": \" \".join(current_chunk), \"page_token_count\": (len(\" \".join(current_chunk)) / 4)})\n",
    "\n",
    "    # Flush leftover buffer\n",
    "    if buffer:\n",
    "        chunks.append(buffer)\n",
    "\n",
    "    return chunks\n"
   ]
  },
  {
   "cell_type": "code",
   "execution_count": null,
   "metadata": {
    "id": "p9jvDT9f2-s1",
    "outputId": "b4f88a52-218b-4cdf-9b4a-59bc222f6dbf"
   },
   "outputs": [
    {
     "name": "stdout",
     "output_type": "stream",
     "text": [
      "570\n",
      "1  INTRODUCING THE TAROT HOW TO WORK WITH THIS BOOK This book offers everything you need to know to read tarot cards for daily affirmation, prediction, and intuitive and spiritual development. Anyone can learn to work with tarot and can benefit greatly from its insights; all you need is an open mind and a willingness to trust the impressions you sense during a reading. We begin with the basics—the structure of a tarot deck, and how the cards link with astrology, Kabbala, and numbers (see pages 10 and 19). Next, you’ll learn how to lay out the cards for a reading. You can try the traditional spreads on pages 20–28, and the mini-layouts given for each major arcana card—a total of thirty. The mini-layouts are all original to this book, and I invite you to share them and use them as inspiration for devising your own spreads; the aim is to help you be creative with tarot, to experiment and find ways to read the cards that work for you. There’s no right or wrong way to lay out cards just the way that’s right for you. The interpretations chapters follow from page 29 on. To begin with, you might like to use the key words for the card meanings shown on pages 29 and 118 as a quick reference. In the detailed major arcana card interpretations, you will see listed the card’s alternative names, number, and numerological association—this is the number that the card’s number reduces to, which gives additional insight. For example, XXI, The World, reduces as follows: 2 + 1 = 3, or III, The Empress.\n"
     ]
    }
   ],
   "source": [
    "chunks = prepare_chunks(pages_and_texts[7:])\n",
    "\n",
    "print(len(chunks))          # number of embedding-ready chunks\n",
    "print(chunks[0][\"text\"])"
   ]
  },
  {
   "cell_type": "code",
   "execution_count": null,
   "metadata": {
    "id": "VPbJuZu52-s1",
    "outputId": "202fd0da-79ba-48bf-a0cb-c9289ef7862a"
   },
   "outputs": [
    {
     "data": {
      "text/html": [
       "<div>\n",
       "<style scoped>\n",
       "    .dataframe tbody tr th:only-of-type {\n",
       "        vertical-align: middle;\n",
       "    }\n",
       "\n",
       "    .dataframe tbody tr th {\n",
       "        vertical-align: top;\n",
       "    }\n",
       "\n",
       "    .dataframe thead th {\n",
       "        text-align: right;\n",
       "    }\n",
       "</style>\n",
       "<table border=\"1\" class=\"dataframe\">\n",
       "  <thead>\n",
       "    <tr style=\"text-align: right;\">\n",
       "      <th></th>\n",
       "      <th>page_number</th>\n",
       "      <th>page_token_count</th>\n",
       "    </tr>\n",
       "  </thead>\n",
       "  <tbody>\n",
       "    <tr>\n",
       "      <th>count</th>\n",
       "      <td>570.00</td>\n",
       "      <td>570.00</td>\n",
       "    </tr>\n",
       "    <tr>\n",
       "      <th>mean</th>\n",
       "      <td>239.66</td>\n",
       "      <td>230.06</td>\n",
       "    </tr>\n",
       "    <tr>\n",
       "      <th>std</th>\n",
       "      <td>139.14</td>\n",
       "      <td>124.99</td>\n",
       "    </tr>\n",
       "    <tr>\n",
       "      <th>min</th>\n",
       "      <td>0.00</td>\n",
       "      <td>15.50</td>\n",
       "    </tr>\n",
       "    <tr>\n",
       "      <th>25%</th>\n",
       "      <td>120.50</td>\n",
       "      <td>105.25</td>\n",
       "    </tr>\n",
       "    <tr>\n",
       "      <th>50%</th>\n",
       "      <td>240.50</td>\n",
       "      <td>257.00</td>\n",
       "    </tr>\n",
       "    <tr>\n",
       "      <th>75%</th>\n",
       "      <td>359.50</td>\n",
       "      <td>356.94</td>\n",
       "    </tr>\n",
       "    <tr>\n",
       "      <th>max</th>\n",
       "      <td>485.00</td>\n",
       "      <td>378.75</td>\n",
       "    </tr>\n",
       "  </tbody>\n",
       "</table>\n",
       "</div>"
      ],
      "text/plain": [
       "       page_number  page_token_count\n",
       "count       570.00            570.00\n",
       "mean        239.66            230.06\n",
       "std         139.14            124.99\n",
       "min           0.00             15.50\n",
       "25%         120.50            105.25\n",
       "50%         240.50            257.00\n",
       "75%         359.50            356.94\n",
       "max         485.00            378.75"
      ]
     },
     "execution_count": 167,
     "metadata": {},
     "output_type": "execute_result"
    }
   ],
   "source": [
    "pd.DataFrame(chunks).describe().round(2)"
   ]
  },
  {
   "cell_type": "code",
   "execution_count": null,
   "metadata": {
    "id": "skL06bMB2-s1"
   },
   "outputs": [],
   "source": [
    "for i in range(len(chunks)):\n",
    "    chunks[i][\"chunk_word_count\"] = len([word for word in chunks[i][\"text\"].split(\" \")])\n"
   ]
  },
  {
   "cell_type": "code",
   "execution_count": null,
   "metadata": {
    "id": "HjH_hcCy2-s1"
   },
   "outputs": [],
   "source": [
    "df = pd.DataFrame(chunks)#.describe().round(2)"
   ]
  },
  {
   "cell_type": "code",
   "execution_count": null,
   "metadata": {
    "id": "GzjQERtH2-s2",
    "outputId": "921a6822-e7e8-48a0-9807-e82eea72e354"
   },
   "outputs": [
    {
     "data": {
      "text/html": [
       "<div>\n",
       "<style scoped>\n",
       "    .dataframe tbody tr th:only-of-type {\n",
       "        vertical-align: middle;\n",
       "    }\n",
       "\n",
       "    .dataframe tbody tr th {\n",
       "        vertical-align: top;\n",
       "    }\n",
       "\n",
       "    .dataframe thead th {\n",
       "        text-align: right;\n",
       "    }\n",
       "</style>\n",
       "<table border=\"1\" class=\"dataframe\">\n",
       "  <thead>\n",
       "    <tr style=\"text-align: right;\">\n",
       "      <th></th>\n",
       "      <th>page_number</th>\n",
       "      <th>text</th>\n",
       "      <th>page_token_count</th>\n",
       "      <th>chunk_word_count</th>\n",
       "    </tr>\n",
       "  </thead>\n",
       "  <tbody>\n",
       "    <tr>\n",
       "      <th>0</th>\n",
       "      <td>0</td>\n",
       "      <td>1  INTRODUCING THE TAROT HOW TO WORK WITH THIS...</td>\n",
       "      <td>376.50</td>\n",
       "      <td>270</td>\n",
       "    </tr>\n",
       "    <tr>\n",
       "      <th>1</th>\n",
       "      <td>0</td>\n",
       "      <td>In the detailed major arcana card interpretati...</td>\n",
       "      <td>202.00</td>\n",
       "      <td>135</td>\n",
       "    </tr>\n",
       "    <tr>\n",
       "      <th>2</th>\n",
       "      <td>1</td>\n",
       "      <td>The minor arcana interpretations are divided b...</td>\n",
       "      <td>344.25</td>\n",
       "      <td>226</td>\n",
       "    </tr>\n",
       "    <tr>\n",
       "      <th>3</th>\n",
       "      <td>1</td>\n",
       "      <td>HOW READING TAROT CAN BENEFIT YOU Tarot is a s...</td>\n",
       "      <td>248.50</td>\n",
       "      <td>156</td>\n",
       "    </tr>\n",
       "    <tr>\n",
       "      <th>4</th>\n",
       "      <td>2</td>\n",
       "      <td>The tarot deck shown throughout this book is t...</td>\n",
       "      <td>330.75</td>\n",
       "      <td>214</td>\n",
       "    </tr>\n",
       "    <tr>\n",
       "      <th>...</th>\n",
       "      <td>...</td>\n",
       "      <td>...</td>\n",
       "      <td>...</td>\n",
       "      <td>...</td>\n",
       "    </tr>\n",
       "    <tr>\n",
       "      <th>565</th>\n",
       "      <td>481</td>\n",
       "      <td>Hermit, The, 69 Hierophant, The, 53 High Pries...</td>\n",
       "      <td>175.00</td>\n",
       "      <td>119</td>\n",
       "    </tr>\n",
       "    <tr>\n",
       "      <th>566</th>\n",
       "      <td>482</td>\n",
       "      <td>Ten of Swords, 194–195 Page of Swords, 196–197...</td>\n",
       "      <td>170.25</td>\n",
       "      <td>112</td>\n",
       "    </tr>\n",
       "    <tr>\n",
       "      <th>567</th>\n",
       "      <td>483</td>\n",
       "      <td>Three of Swords, 180–181 Three of Wands, 208–2...</td>\n",
       "      <td>134.25</td>\n",
       "      <td>92</td>\n",
       "    </tr>\n",
       "    <tr>\n",
       "      <th>568</th>\n",
       "      <td>484</td>\n",
       "      <td>This book is dedicated to all students of taro...</td>\n",
       "      <td>28.75</td>\n",
       "      <td>20</td>\n",
       "    </tr>\n",
       "    <tr>\n",
       "      <th>569</th>\n",
       "      <td>485</td>\n",
       "      <td>© 2015 Fair Winds Press First published in the...</td>\n",
       "      <td>244.00</td>\n",
       "      <td>142</td>\n",
       "    </tr>\n",
       "  </tbody>\n",
       "</table>\n",
       "<p>570 rows × 4 columns</p>\n",
       "</div>"
      ],
      "text/plain": [
       "     page_number                                               text  \\\n",
       "0              0  1  INTRODUCING THE TAROT HOW TO WORK WITH THIS...   \n",
       "1              0  In the detailed major arcana card interpretati...   \n",
       "2              1  The minor arcana interpretations are divided b...   \n",
       "3              1  HOW READING TAROT CAN BENEFIT YOU Tarot is a s...   \n",
       "4              2  The tarot deck shown throughout this book is t...   \n",
       "..           ...                                                ...   \n",
       "565          481  Hermit, The, 69 Hierophant, The, 53 High Pries...   \n",
       "566          482  Ten of Swords, 194–195 Page of Swords, 196–197...   \n",
       "567          483  Three of Swords, 180–181 Three of Wands, 208–2...   \n",
       "568          484  This book is dedicated to all students of taro...   \n",
       "569          485  © 2015 Fair Winds Press First published in the...   \n",
       "\n",
       "     page_token_count  chunk_word_count  \n",
       "0              376.50               270  \n",
       "1              202.00               135  \n",
       "2              344.25               226  \n",
       "3              248.50               156  \n",
       "4              330.75               214  \n",
       "..                ...               ...  \n",
       "565            175.00               119  \n",
       "566            170.25               112  \n",
       "567            134.25                92  \n",
       "568             28.75                20  \n",
       "569            244.00               142  \n",
       "\n",
       "[570 rows x 4 columns]"
      ]
     },
     "execution_count": 170,
     "metadata": {},
     "output_type": "execute_result"
    }
   ],
   "source": [
    "df"
   ]
  },
  {
   "cell_type": "code",
   "execution_count": null,
   "metadata": {
    "id": "urz1lAbn2-s2"
   },
   "outputs": [],
   "source": [
    "df.to_csv(\"tarot_text.csv\", index = False)"
   ]
  },
  {
   "cell_type": "markdown",
   "metadata": {
    "id": "z1W4JHEq2-s2"
   },
   "source": [
    "# 2. Embedding text chunks"
   ]
  },
  {
   "cell_type": "code",
   "execution_count": null,
   "metadata": {},
   "outputs": [],
   "source": [
    "from sentence_transformers import SentenceTransformer\n",
    "embedding_model = SentenceTransformer(model_name_or_path=\"all-mpnet-base-v2\",\n",
    "                                      device=\"cpu\")"
   ]
  },
  {
   "cell_type": "code",
   "execution_count": null,
   "metadata": {
    "colab": {
     "referenced_widgets": [
      "1db42c9fd7b64001bd1cd66235297473"
     ]
    },
    "id": "ECAUA3h92-s2",
    "outputId": "372c1bb0-6563-413c-f18c-72eff9c7127e"
   },
   "outputs": [
    {
     "data": {
      "application/vnd.jupyter.widget-view+json": {
       "model_id": "1db42c9fd7b64001bd1cd66235297473",
       "version_major": 2,
       "version_minor": 0
      },
      "text/plain": [
       "  0%|          | 0/570 [00:00<?, ?it/s]"
      ]
     },
     "metadata": {},
     "output_type": "display_data"
    },
    {
     "name": "stdout",
     "output_type": "stream",
     "text": [
      "CPU times: user 4min 55s, sys: 19 s, total: 5min 14s\n",
      "Wall time: 4min 55s\n"
     ]
    }
   ],
   "source": [
    "%%time\n",
    "\n",
    "for item in tqdm(chunks):\n",
    "    item[\"embedding\"] = embedding_model.encode(item[\"text\"])"
   ]
  },
  {
   "cell_type": "code",
   "execution_count": null,
   "metadata": {
    "id": "USVV2D1d2-s2"
   },
   "outputs": [],
   "source": [
    "text_chunks_and_embeddings_df = pd.DataFrame(chunks)\n",
    "embeddings_df_save_path = \"text_chunks_and_embeddings_df.csv\"\n",
    "text_chunks_and_embeddings_df.to_csv(embeddings_df_save_path, index=False)"
   ]
  },
  {
   "cell_type": "code",
   "execution_count": null,
   "metadata": {
    "id": "32a9thUh2-s3",
    "outputId": "c7bfd800-396c-4e70-8e44-a68f0c977169"
   },
   "outputs": [
    {
     "data": {
      "text/html": [
       "<div>\n",
       "<style scoped>\n",
       "    .dataframe tbody tr th:only-of-type {\n",
       "        vertical-align: middle;\n",
       "    }\n",
       "\n",
       "    .dataframe tbody tr th {\n",
       "        vertical-align: top;\n",
       "    }\n",
       "\n",
       "    .dataframe thead th {\n",
       "        text-align: right;\n",
       "    }\n",
       "</style>\n",
       "<table border=\"1\" class=\"dataframe\">\n",
       "  <thead>\n",
       "    <tr style=\"text-align: right;\">\n",
       "      <th></th>\n",
       "      <th>page_number</th>\n",
       "      <th>text</th>\n",
       "      <th>page_token_count</th>\n",
       "      <th>chunk_word_count</th>\n",
       "      <th>embedding</th>\n",
       "    </tr>\n",
       "  </thead>\n",
       "  <tbody>\n",
       "    <tr>\n",
       "      <th>0</th>\n",
       "      <td>0</td>\n",
       "      <td>1  INTRODUCING THE TAROT HOW TO WORK WITH THIS...</td>\n",
       "      <td>376.50</td>\n",
       "      <td>270</td>\n",
       "      <td>[0.03744885, -0.058901116, -0.03133846, 0.0446...</td>\n",
       "    </tr>\n",
       "    <tr>\n",
       "      <th>1</th>\n",
       "      <td>0</td>\n",
       "      <td>In the detailed major arcana card interpretati...</td>\n",
       "      <td>202.00</td>\n",
       "      <td>135</td>\n",
       "      <td>[0.029477408, -0.040557835, -0.046912964, 0.05...</td>\n",
       "    </tr>\n",
       "    <tr>\n",
       "      <th>2</th>\n",
       "      <td>1</td>\n",
       "      <td>The minor arcana interpretations are divided b...</td>\n",
       "      <td>344.25</td>\n",
       "      <td>226</td>\n",
       "      <td>[0.029125197, -0.042218585, -0.02380663, 0.046...</td>\n",
       "    </tr>\n",
       "    <tr>\n",
       "      <th>3</th>\n",
       "      <td>1</td>\n",
       "      <td>HOW READING TAROT CAN BENEFIT YOU Tarot is a s...</td>\n",
       "      <td>248.50</td>\n",
       "      <td>156</td>\n",
       "      <td>[-0.017528765, -0.0047595724, -0.023500122, 0....</td>\n",
       "    </tr>\n",
       "    <tr>\n",
       "      <th>4</th>\n",
       "      <td>2</td>\n",
       "      <td>The tarot deck shown throughout this book is t...</td>\n",
       "      <td>330.75</td>\n",
       "      <td>214</td>\n",
       "      <td>[0.058840264, -0.043807305, -0.011972893, 0.04...</td>\n",
       "    </tr>\n",
       "    <tr>\n",
       "      <th>...</th>\n",
       "      <td>...</td>\n",
       "      <td>...</td>\n",
       "      <td>...</td>\n",
       "      <td>...</td>\n",
       "      <td>...</td>\n",
       "    </tr>\n",
       "    <tr>\n",
       "      <th>565</th>\n",
       "      <td>481</td>\n",
       "      <td>Hermit, The, 69 Hierophant, The, 53 High Pries...</td>\n",
       "      <td>175.00</td>\n",
       "      <td>119</td>\n",
       "      <td>[0.05572427, -0.023874342, 0.00534033, 0.06752...</td>\n",
       "    </tr>\n",
       "    <tr>\n",
       "      <th>566</th>\n",
       "      <td>482</td>\n",
       "      <td>Ten of Swords, 194–195 Page of Swords, 196–197...</td>\n",
       "      <td>170.25</td>\n",
       "      <td>112</td>\n",
       "      <td>[0.05402895, -0.03954698, 0.0053145206, 0.0208...</td>\n",
       "    </tr>\n",
       "    <tr>\n",
       "      <th>567</th>\n",
       "      <td>483</td>\n",
       "      <td>Three of Swords, 180–181 Three of Wands, 208–2...</td>\n",
       "      <td>134.25</td>\n",
       "      <td>92</td>\n",
       "      <td>[0.078784734, -0.061991517, -0.0022283802, 0.0...</td>\n",
       "    </tr>\n",
       "    <tr>\n",
       "      <th>568</th>\n",
       "      <td>484</td>\n",
       "      <td>This book is dedicated to all students of taro...</td>\n",
       "      <td>28.75</td>\n",
       "      <td>20</td>\n",
       "      <td>[0.0469173, -0.0035335498, -0.016104946, 0.040...</td>\n",
       "    </tr>\n",
       "    <tr>\n",
       "      <th>569</th>\n",
       "      <td>485</td>\n",
       "      <td>© 2015 Fair Winds Press First published in the...</td>\n",
       "      <td>244.00</td>\n",
       "      <td>142</td>\n",
       "      <td>[0.053852264, 0.051399086, -0.029362988, 0.003...</td>\n",
       "    </tr>\n",
       "  </tbody>\n",
       "</table>\n",
       "<p>570 rows × 5 columns</p>\n",
       "</div>"
      ],
      "text/plain": [
       "     page_number                                               text  \\\n",
       "0              0  1  INTRODUCING THE TAROT HOW TO WORK WITH THIS...   \n",
       "1              0  In the detailed major arcana card interpretati...   \n",
       "2              1  The minor arcana interpretations are divided b...   \n",
       "3              1  HOW READING TAROT CAN BENEFIT YOU Tarot is a s...   \n",
       "4              2  The tarot deck shown throughout this book is t...   \n",
       "..           ...                                                ...   \n",
       "565          481  Hermit, The, 69 Hierophant, The, 53 High Pries...   \n",
       "566          482  Ten of Swords, 194–195 Page of Swords, 196–197...   \n",
       "567          483  Three of Swords, 180–181 Three of Wands, 208–2...   \n",
       "568          484  This book is dedicated to all students of taro...   \n",
       "569          485  © 2015 Fair Winds Press First published in the...   \n",
       "\n",
       "     page_token_count  chunk_word_count  \\\n",
       "0              376.50               270   \n",
       "1              202.00               135   \n",
       "2              344.25               226   \n",
       "3              248.50               156   \n",
       "4              330.75               214   \n",
       "..                ...               ...   \n",
       "565            175.00               119   \n",
       "566            170.25               112   \n",
       "567            134.25                92   \n",
       "568             28.75                20   \n",
       "569            244.00               142   \n",
       "\n",
       "                                             embedding  \n",
       "0    [0.03744885, -0.058901116, -0.03133846, 0.0446...  \n",
       "1    [0.029477408, -0.040557835, -0.046912964, 0.05...  \n",
       "2    [0.029125197, -0.042218585, -0.02380663, 0.046...  \n",
       "3    [-0.017528765, -0.0047595724, -0.023500122, 0....  \n",
       "4    [0.058840264, -0.043807305, -0.011972893, 0.04...  \n",
       "..                                                 ...  \n",
       "565  [0.05572427, -0.023874342, 0.00534033, 0.06752...  \n",
       "566  [0.05402895, -0.03954698, 0.0053145206, 0.0208...  \n",
       "567  [0.078784734, -0.061991517, -0.0022283802, 0.0...  \n",
       "568  [0.0469173, -0.0035335498, -0.016104946, 0.040...  \n",
       "569  [0.053852264, 0.051399086, -0.029362988, 0.003...  \n",
       "\n",
       "[570 rows x 5 columns]"
      ]
     },
     "execution_count": 212,
     "metadata": {},
     "output_type": "execute_result"
    }
   ],
   "source": [
    "text_chunks_and_embeddings_df"
   ]
  },
  {
   "cell_type": "markdown",
   "metadata": {
    "id": "UnXeFZLo2-s3"
   },
   "source": [
    "# 3. RAG"
   ]
  },
  {
   "cell_type": "code",
   "execution_count": null,
   "metadata": {
    "id": "Q7wPu_5y2-s3"
   },
   "outputs": [],
   "source": []
  },
  {
   "cell_type": "code",
   "execution_count": 2,
   "metadata": {
    "colab": {
     "base_uri": "https://localhost:8080/"
    },
    "id": "qKAe_u4A2-s3",
    "outputId": "890bc871-5fda-4080-c5cc-5e22cd1a6ae7"
   },
   "outputs": [
    {
     "data": {
      "text/plain": [
       "torch.Size([570, 768])"
      ]
     },
     "execution_count": 2,
     "metadata": {},
     "output_type": "execute_result"
    }
   ],
   "source": [
    "# if start new\n",
    "import random\n",
    "import torch\n",
    "import numpy as np\n",
    "import pandas as pd\n",
    "\n",
    "device = torch.device(\"cpu\")\n",
    "\n",
    "text_chunks_and_embeddings_df = pd.read_csv(\"text_chunks_and_embeddings_df.csv\")\n",
    "\n",
    "\n",
    "text_chunks_and_embeddings_df[\"embedding\"] = text_chunks_and_embeddings_df[\"embedding\"].apply(lambda x: np.fromstring(x.strip(\"[]\"), sep=\" \"))\n",
    "\n",
    "\n",
    "chunks = text_chunks_and_embeddings_df.to_dict(orient=\"records\")\n",
    "\n",
    "\n",
    "embeddings = torch.tensor(np.array(text_chunks_and_embeddings_df[\"embedding\"].tolist()), dtype=torch.float32).to(device)\n",
    "embeddings.shape"
   ]
  },
  {
   "cell_type": "code",
   "execution_count": 3,
   "metadata": {
    "colab": {
     "base_uri": "https://localhost:8080/"
    },
    "id": "ZVmUCuR32-s3",
    "outputId": "0a075b91-d88b-4476-e50f-748caa08f6dc"
   },
   "outputs": [
    {
     "data": {
      "text/plain": [
       "torch.Size([570, 768])"
      ]
     },
     "execution_count": 3,
     "metadata": {},
     "output_type": "execute_result"
    }
   ],
   "source": [
    "embeddings = torch.tensor(np.stack(text_chunks_and_embeddings_df[\"embedding\"].tolist()), dtype=torch.float32).to(device)\n",
    "embeddings.shape"
   ]
  },
  {
   "cell_type": "code",
   "execution_count": 4,
   "metadata": {
    "colab": {
     "base_uri": "https://localhost:8080/"
    },
    "id": "SIk5zSx52-s3",
    "outputId": "a084a3da-efb1-4c41-8326-b12c3419ea33"
   },
   "outputs": [
    {
     "data": {
      "text/plain": [
       "tensor([[ 0.0374, -0.0589, -0.0313,  ...,  0.0308,  0.0246,  0.0085],\n",
       "        [ 0.0295, -0.0406, -0.0469,  ...,  0.0059, -0.0042,  0.0014],\n",
       "        [ 0.0291, -0.0422, -0.0238,  ...,  0.0460,  0.0122,  0.0069],\n",
       "        ...,\n",
       "        [ 0.0788, -0.0620, -0.0022,  ..., -0.0173, -0.0124,  0.0089],\n",
       "        [ 0.0469, -0.0035, -0.0161,  ...,  0.0501,  0.0528,  0.0030],\n",
       "        [ 0.0539,  0.0514, -0.0294,  ...,  0.0232,  0.0183, -0.0421]])"
      ]
     },
     "execution_count": 4,
     "metadata": {},
     "output_type": "execute_result"
    }
   ],
   "source": [
    "embeddings"
   ]
  },
  {
   "cell_type": "markdown",
   "metadata": {
    "id": "wrPsKF6u2-s4"
   },
   "source": [
    "## 3.1 Embedding model"
   ]
  },
  {
   "cell_type": "code",
   "execution_count": 5,
   "metadata": {},
   "outputs": [
    {
     "name": "stderr",
     "output_type": "stream",
     "text": [
      "/Library/Frameworks/Python.framework/Versions/3.8/lib/python3.8/site-packages/sentence_transformers/cross_encoder/CrossEncoder.py:13: TqdmExperimentalWarning: Using `tqdm.autonotebook.tqdm` in notebook mode. Use `tqdm.tqdm` instead to force console mode (e.g. in jupyter console)\n",
      "  from tqdm.autonotebook import tqdm, trange\n",
      "2025-09-24 20:57:52.563885: I tensorflow/core/platform/cpu_feature_guard.cc:182] This TensorFlow binary is optimized to use available CPU instructions in performance-critical operations.\n",
      "To enable the following instructions: AVX2 FMA, in other operations, rebuild TensorFlow with the appropriate compiler flags.\n",
      "/Library/Frameworks/Python.framework/Versions/3.8/lib/python3.8/site-packages/torchvision/datapoints/__init__.py:12: UserWarning: The torchvision.datapoints and torchvision.transforms.v2 namespaces are still Beta. While we do not expect major breaking changes, some APIs may still change according to user feedback. Please submit any feedback you may have in this issue: https://github.com/pytorch/vision/issues/6753, and you can also check out https://github.com/pytorch/vision/issues/7319 to learn more about the APIs that we suspect might involve future changes. You can silence this warning by calling torchvision.disable_beta_transforms_warning().\n",
      "  warnings.warn(_BETA_TRANSFORMS_WARNING)\n",
      "/Library/Frameworks/Python.framework/Versions/3.8/lib/python3.8/site-packages/torchvision/transforms/v2/__init__.py:54: UserWarning: The torchvision.datapoints and torchvision.transforms.v2 namespaces are still Beta. While we do not expect major breaking changes, some APIs may still change according to user feedback. Please submit any feedback you may have in this issue: https://github.com/pytorch/vision/issues/6753, and you can also check out https://github.com/pytorch/vision/issues/7319 to learn more about the APIs that we suspect might involve future changes. You can silence this warning by calling torchvision.disable_beta_transforms_warning().\n",
      "  warnings.warn(_BETA_TRANSFORMS_WARNING)\n"
     ]
    }
   ],
   "source": [
    "from sentence_transformers import util, SentenceTransformer\n",
    "\n",
    "embedding_model = SentenceTransformer(model_name_or_path=\"all-mpnet-base-v2\", device=device)"
   ]
  },
  {
   "cell_type": "code",
   "execution_count": 6,
   "metadata": {
    "colab": {
     "base_uri": "https://localhost:8080/"
    },
    "id": "tNcexSs82-s5",
    "outputId": "057478f8-1b0f-4da4-f22c-80172b658064"
   },
   "outputs": [
    {
     "name": "stdout",
     "output_type": "stream",
     "text": [
      "Query: the moon card reversed!\n",
      "Time take to get scores on 570 embeddings: 0.00641 seconds.\n"
     ]
    },
    {
     "data": {
      "text/plain": [
       "torch.return_types.topk(\n",
       "values=tensor([0.6461, 0.6137, 0.5700, 0.5389, 0.5273]),\n",
       "indices=tensor([232, 228, 235, 229, 240]))"
      ]
     },
     "execution_count": 6,
     "metadata": {},
     "output_type": "execute_result"
    }
   ],
   "source": [
    "# 1. Define the query\n",
    "# Note: This could be anything. But since we're working with a nutrition textbook, we'll stick with nutrition-based queries.\n",
    "query = \"the moon card reversed!\"\n",
    "print(f\"Query: {query}\")\n",
    "\n",
    "# 2. Embed the query to the same numerical space as the text examples\n",
    "# Note: It's important to embed your query with the same model you embedded your examples with.\n",
    "query_embedding = embedding_model.encode(query, convert_to_tensor=True)\n",
    "\n",
    "# 3. Get similarity scores with the dot product\n",
    "from time import perf_counter as timer\n",
    "\n",
    "start_time = timer()\n",
    "dot_scores = util.dot_score(a=query_embedding, b=embeddings)[0]\n",
    "end_time = timer()\n",
    "\n",
    "print(f\"Time take to get scores on {len(embeddings)} embeddings: {end_time-start_time:.5f} seconds.\")\n",
    "\n",
    "# 4. Get the top-k results (we'll keep this to 5)\n",
    "top_results_dot_product = torch.topk(dot_scores, k=5)\n",
    "top_results_dot_product"
   ]
  },
  {
   "cell_type": "code",
   "execution_count": 7,
   "metadata": {
    "colab": {
     "base_uri": "https://localhost:8080/",
     "height": 214
    },
    "id": "_nhL2GZu2-s5",
    "outputId": "e65405a3-69ce-48f4-ecbe-5e56605c6d58"
   },
   "outputs": [
    {
     "data": {
      "text/plain": [
       "'When the Moon is reversed, you may avoid difficult emotions and confrontations, so your needs are not expressed or recognized. A trauma is ignored again rather than explored, so the Moon reversed can show you going back to old ways of coping with the past. The card can also show you feeling stuck in an old emotional pattern that keeps arising—until you give it attention. ITS WISDOM MESSAGE Be guided by messages from your unconscious. THE MOON’S SYMBOLS In the Rider-Waite tarot, the Moon appears with these magical symbols. Some of them reappear in other major arcana cards, so learn to recognize them and you’ll soon find you can apply your knowledge throughout the deck. The crayfish: This creature is a symbol of the primal self, which in this environment is not at peace and is struggling to surface, like subconscious fears. The wolf and dog: The canines show fear of the unknown. They also are guardians of experience, representing a rite of passage. The wolf is wild instinct and the dog, the tamed self. See the dog on card 0, The Fool. The watchtowers or gates: These are the gates of Hades in classical mythology (see The Historical Moon). In a reading, these represent the boundary between the unconscious and conscious self. See this symbol on card XIII, Death. The sun-moon: A full moon, crescent moon, and sun are merged. The moon is the subconscious aspect that affects how we behave in the solar world, which dominates the sleeping sun. See the sun on card XIX, The Sun; VI, The Lovers;'"
      ]
     },
     "execution_count": 7,
     "metadata": {},
     "output_type": "execute_result"
    }
   ],
   "source": [
    "text_chunks_and_embeddings_df.text[232]"
   ]
  },
  {
   "cell_type": "code",
   "execution_count": 8,
   "metadata": {
    "id": "K_Xa_-Ds2-s5",
    "outputId": "a8895a94-730b-4788-df5f-4aac6285a589"
   },
   "outputs": [
    {
     "data": {
      "text/plain": [
       "tensor([[ 0.0374, -0.0589, -0.0313,  ...,  0.0308,  0.0246,  0.0085],\n",
       "        [ 0.0295, -0.0406, -0.0469,  ...,  0.0059, -0.0042,  0.0014],\n",
       "        [ 0.0291, -0.0422, -0.0238,  ...,  0.0460,  0.0122,  0.0069],\n",
       "        ...,\n",
       "        [ 0.0788, -0.0620, -0.0022,  ..., -0.0173, -0.0124,  0.0089],\n",
       "        [ 0.0469, -0.0035, -0.0161,  ...,  0.0501,  0.0528,  0.0030],\n",
       "        [ 0.0539,  0.0514, -0.0294,  ...,  0.0232,  0.0183, -0.0421]])"
      ]
     },
     "execution_count": 8,
     "metadata": {},
     "output_type": "execute_result"
    }
   ],
   "source": [
    "embeddings"
   ]
  },
  {
   "cell_type": "code",
   "execution_count": 51,
   "metadata": {
    "id": "6NJ47C_I2-s6"
   },
   "outputs": [],
   "source": [
    "\n",
    "def retrieve(query):\n",
    "\n",
    "    query_embedding = embedding_model.encode(query, convert_to_tensor=True)\n",
    "    dot_scores = util.dot_score(a=query_embedding, b=embeddings)[0]\n",
    "    top_results_dot_product = torch.topk(dot_scores, k=1)\n",
    "    top_indices = top_results_dot_product.indices.cpu().tolist()\n",
    "    response = text_chunks_and_embeddings_df.text.iloc[top_indices].tolist()\n",
    "\n",
    "    return response\n",
    "\n"
   ]
  },
  {
   "cell_type": "code",
   "execution_count": 10,
   "metadata": {
    "colab": {
     "base_uri": "https://localhost:8080/",
     "height": 125
    },
    "id": "FcO_3-3b2-s6",
    "outputId": "046026a4-b4a5-4318-9b81-f382a43f6d16"
   },
   "outputs": [
    {
     "data": {
      "text/plain": [
       "'Here’s some other good news the Sun can predict:  Home: You feel comfortable and secure in your home—you may also feel more like entertaining others. In particular, the Sun shows children coming into your home. Relationships: Partnerships bloom under the sun as your relationship grows and you enjoy every minute together. You may also take a trip away to a sunny place to escape everyday pressures. Career and money: The Sun does not specifically predict money but does show success and a position f'"
      ]
     },
     "execution_count": 10,
     "metadata": {},
     "output_type": "execute_result"
    }
   ],
   "source": [
    "retrieve(\"Sun reversed\")[0][:500]"
   ]
  },
  {
   "cell_type": "code",
   "execution_count": null,
   "metadata": {
    "id": "q9uE_fTz2-s6"
   },
   "outputs": [],
   "source": []
  },
  {
   "cell_type": "markdown",
   "metadata": {
    "id": "kaq2utnF2-s6"
   },
   "source": [
    "# 4. LLM Hugging Face API"
   ]
  },
  {
   "cell_type": "code",
   "execution_count": 27,
   "metadata": {},
   "outputs": [],
   "source": [
    "from huggingface_hub import InferenceClient\n",
    "\n",
    "import json\n",
    "import os"
   ]
  },
  {
   "cell_type": "code",
   "execution_count": 28,
   "metadata": {},
   "outputs": [],
   "source": [
    "client = InferenceClient(\n",
    "    provider=\"cohere\",\n",
    "    api_key=token,\n",
    ")"
   ]
  },
  {
   "cell_type": "code",
   "execution_count": 52,
   "metadata": {},
   "outputs": [],
   "source": [
    "def tarot_reader(user_question):\n",
    "    retrieved_context = \"\\n\".join(retrieve(user_question))\n",
    "\n",
    "    prompt = f\"\"\"\n",
    "    You are a mystical tarot reader.\n",
    "    Using only the context provided, answer the question in insightful and clear way.\n",
    "    When asked about more then one card, provide the information, regarding card combinations.\n",
    "    Never give unfinished sentences. Provide information only about mentioned cards.\n",
    "    this is Context: {retrieved_context}\n",
    "    so my question is: {user_question}\n",
    "    \"\"\"\n",
    "    \n",
    "    completion = client.chat.completions.create(\n",
    "        model=\"CohereLabs/command-a-translate-08-2025\",\n",
    "        messages=[\n",
    "            {\n",
    "                \"role\": \"user\",\n",
    "                \"content\": prompt\n",
    "            }\n",
    "        ],\n",
    "    )\n",
    "\n",
    "   \n",
    "    return completion.choices[0].message\n"
   ]
  },
  {
   "cell_type": "code",
   "execution_count": 53,
   "metadata": {},
   "outputs": [
    {
     "data": {
      "text/plain": [
       "ChatCompletionOutputMessage(role='assistant', content='The Sun card (XIX) represents a profound moment of clarity, vitality, and spiritual awakening. It signifies the triumph over fear and the emergence into a state of renewed energy and optimism, much like the light that follows the darkness of the Moon. This card embodies action, creativity, and the manifestation of one’s inner power in the earthly realm, mirroring the Magician’s ability to shape reality. It also symbolizes the dawning of spiritual realization, aligning with the Wheel of Fortune’s cyclical nature and the journey toward higher consciousness. Astrologically tied to the Sun, it focuses on the outward expression of the self and the rejuvenation of vitality after a period of inner struggle. Historically linked to Gemini in some decks, it reflects duality and balance. In Kabbalah, the Sun is associated with the letter Resh, representing the head and success, emphasizing mental clarity and achievement. The Sun card is a beacon of hope, encouraging you to embrace life’s brightness and move forward with confidence and purpose.', tool_call_id=None, tool_calls=None)"
      ]
     },
     "execution_count": 53,
     "metadata": {},
     "output_type": "execute_result"
    }
   ],
   "source": [
    "tarot_reader(\"what the sun card represents\")"
   ]
  },
  {
   "cell_type": "code",
   "execution_count": null,
   "metadata": {
    "id": "X22UWSvJ2-tB"
   },
   "outputs": [],
   "source": []
  },
  {
   "cell_type": "code",
   "execution_count": null,
   "metadata": {
    "id": "ZiCwp61G2-tB"
   },
   "outputs": [],
   "source": []
  },
  {
   "cell_type": "code",
   "execution_count": null,
   "metadata": {
    "id": "Z3GHneUB2-tB"
   },
   "outputs": [],
   "source": []
  },
  {
   "cell_type": "code",
   "execution_count": null,
   "metadata": {
    "id": "-dmD04p42-tC"
   },
   "outputs": [],
   "source": []
  }
 ],
 "metadata": {
  "accelerator": "GPU",
  "colab": {
   "gpuType": "T4",
   "provenance": []
  },
  "kernelspec": {
   "display_name": "Python 3 (ipykernel)",
   "language": "python",
   "name": "python3"
  },
  "language_info": {
   "codemirror_mode": {
    "name": "ipython",
    "version": 3
   },
   "file_extension": ".py",
   "mimetype": "text/x-python",
   "name": "python",
   "nbconvert_exporter": "python",
   "pygments_lexer": "ipython3",
   "version": "3.8.3rc1"
  }
 },
 "nbformat": 4,
 "nbformat_minor": 1
}
